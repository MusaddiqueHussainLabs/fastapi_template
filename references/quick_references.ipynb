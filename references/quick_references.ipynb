{
 "cells": [
  {
   "cell_type": "code",
   "execution_count": 1,
   "metadata": {},
   "outputs": [],
   "source": [
    "from passlib.context import CryptContext"
   ]
  },
  {
   "cell_type": "code",
   "execution_count": 2,
   "metadata": {},
   "outputs": [],
   "source": [
    "pwd_context = CryptContext(schemes=[\"bcrypt\"], deprecated=\"auto\")"
   ]
  },
  {
   "cell_type": "code",
   "execution_count": 3,
   "metadata": {},
   "outputs": [
    {
     "name": "stdout",
     "output_type": "stream",
     "text": [
      "$2b$12$60cU/BvlTQMS3.CPad15guSlyKvMsQki21ixiSCOentamVTFHyXfO\n"
     ]
    }
   ],
   "source": [
    "print(pwd_context.hash(\"password\"))"
   ]
  },
  {
   "cell_type": "code",
   "execution_count": 4,
   "metadata": {},
   "outputs": [
    {
     "name": "stdout",
     "output_type": "stream",
     "text": [
      "$2b$12$MA04pGjkIayO2jMVvGVz5epCilxXBa373Y.rlTUgQsVCBNuDBDOGe\n"
     ]
    }
   ],
   "source": [
    "print(pwd_context.hash(\"password\"))"
   ]
  },
  {
   "cell_type": "code",
   "execution_count": 6,
   "metadata": {},
   "outputs": [
    {
     "name": "stdout",
     "output_type": "stream",
     "text": [
      "True\n"
     ]
    }
   ],
   "source": [
    "print(pwd_context.verify(\"password\", \"$2b$12$60cU/BvlTQMS3.CPad15guSlyKvMsQki21ixiSCOentamVTFHyXfO\"))"
   ]
  },
  {
   "cell_type": "code",
   "execution_count": 7,
   "metadata": {},
   "outputs": [],
   "source": [
    "from cryptography.fernet import Fernet"
   ]
  },
  {
   "cell_type": "code",
   "execution_count": 10,
   "metadata": {},
   "outputs": [
    {
     "name": "stdout",
     "output_type": "stream",
     "text": [
      "b'gAAAAABlCKPfEp2em7Vq-dLzFGNXBuQJgAyV698CaXhLXpFiwKnVcuJvNC5tG7MjpnKfJ_asCygkmKnY1q8zEKNZFx13rRdMEjErHTQ_O0_bVNzi6XcwiEo='\n"
     ]
    }
   ],
   "source": [
    "key = Fernet.generate_key()\n",
    "f = Fernet(key)\n",
    "token = f.encrypt(b\"my deep dark secret\")\n",
    "print(token)"
   ]
  },
  {
   "cell_type": "code",
   "execution_count": 11,
   "metadata": {},
   "outputs": [
    {
     "name": "stdout",
     "output_type": "stream",
     "text": [
      "b'my deep dark secret'\n"
     ]
    }
   ],
   "source": [
    "print(f.decrypt(token))"
   ]
  },
  {
   "cell_type": "code",
   "execution_count": null,
   "metadata": {},
   "outputs": [],
   "source": []
  }
 ],
 "metadata": {
  "kernelspec": {
   "display_name": "Python 3",
   "language": "python",
   "name": "python3"
  },
  "language_info": {
   "codemirror_mode": {
    "name": "ipython",
    "version": 3
   },
   "file_extension": ".py",
   "mimetype": "text/x-python",
   "name": "python",
   "nbconvert_exporter": "python",
   "pygments_lexer": "ipython3",
   "version": "3.9.18"
  },
  "orig_nbformat": 4
 },
 "nbformat": 4,
 "nbformat_minor": 2
}
